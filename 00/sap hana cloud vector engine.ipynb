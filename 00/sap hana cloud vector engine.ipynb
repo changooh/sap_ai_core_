{
 "cells": [
  {
   "cell_type": "code",
   "id": "initial_id",
   "metadata": {
    "collapsed": true,
    "ExecuteTime": {
     "end_time": "2025-06-11T06:14:34.598520Z",
     "start_time": "2025-06-11T06:14:31.819160Z"
    }
   },
   "source": "%pip install -qU langchain-hana",
   "outputs": [
    {
     "name": "stdout",
     "output_type": "stream",
     "text": [
      "^C\n",
      "Note: you may need to restart the kernel to use updated packages.\n"
     ]
    }
   ],
   "execution_count": 2
  },
  {
   "metadata": {
    "ExecuteTime": {
     "end_time": "2025-06-11T06:19:50.260430Z",
     "start_time": "2025-06-11T06:19:50.248762Z"
    }
   },
   "cell_type": "code",
   "source": [
    "import os\n",
    "import json\n",
    "\n",
    "print(os.getenv('AICORE_HOME', 'default_value'))\n",
    "# 환경 변수에서 경로 및 프로파일 읽어오기\n",
    "aicore_home = os.getenv('AICORE_HOME')\n",
    "#profile = os.getenv('AICORE_PROFILE', 'default')\n",
    "config_path = os.path.join(aicore_home, f\"config.json\")\n",
    "from ai_core_sdk.ai_core_v2_client import AICoreV2Client\n",
    "\n",
    "# 구성 파일에서 값 읽어오기\n",
    "with open(config_path, 'r') as config_file:\n",
    "    config = json.load(config_file)\n",
    "\n",
    "# 클라이언트 초기화\n",
    "ai_core_client = AICoreV2Client(\n",
    "    base_url=config['AICORE_BASE_URL'],\n",
    "    auth_url=config['AICORE_AUTH_URL'],\n",
    "    client_id=config['AICORE_CLIENT_ID'],\n",
    "    client_secret=config['AICORE_CLIENT_SECRET']\n",
    ")\n",
    "\n",
    "print(\"AI Core client initialized successfully!\")\n",
    "model_list = ['gpt-4o-mini', 'anthropic--claude-3.5-sonnet', 'text-embedding-3-small']"
   ],
   "id": "3ea8b7e403ea34",
   "outputs": [
    {
     "name": "stdout",
     "output_type": "stream",
     "text": [
      "C:\\Users\\changgoo.kang\\PycharmProjects\\ai-core-samples\\.aicore\n",
      "AI Core client initialized successfully!\n"
     ]
    }
   ],
   "execution_count": 5
  },
  {
   "metadata": {
    "ExecuteTime": {
     "end_time": "2025-06-11T06:33:31.675163Z",
     "start_time": "2025-06-11T06:33:31.619970Z"
    }
   },
   "cell_type": "code",
   "source": [
    "from gen_ai_hub.proxy.langchain.init_models import init_embedding_model\n",
    "\n",
    "text = 'Every decoding is another encoding.'\n",
    "\n",
    "embeddings = init_embedding_model('text-embedding-3-small')\n",
    "response = embeddings.embed_query(text)\n",
    "print(response)"
   ],
   "id": "fc26f2f73949d886",
   "outputs": [
    {
     "ename": "KeyError",
     "evalue": "\"Model 'text-embedding-3-small' is not available!\"",
     "output_type": "error",
     "traceback": [
      "\u001B[31m---------------------------------------------------------------------------\u001B[39m",
      "\u001B[31mKeyError\u001B[39m                                  Traceback (most recent call last)",
      "\u001B[36mCell\u001B[39m\u001B[36m \u001B[39m\u001B[32mIn[10]\u001B[39m\u001B[32m, line 5\u001B[39m\n\u001B[32m      1\u001B[39m \u001B[38;5;28;01mfrom\u001B[39;00m\u001B[38;5;250m \u001B[39m\u001B[34;01mgen_ai_hub\u001B[39;00m\u001B[34;01m.\u001B[39;00m\u001B[34;01mproxy\u001B[39;00m\u001B[34;01m.\u001B[39;00m\u001B[34;01mlangchain\u001B[39;00m\u001B[34;01m.\u001B[39;00m\u001B[34;01minit_models\u001B[39;00m\u001B[38;5;250m \u001B[39m\u001B[38;5;28;01mimport\u001B[39;00m init_embedding_model\n\u001B[32m      3\u001B[39m text = \u001B[33m'\u001B[39m\u001B[33mEvery decoding is another encoding.\u001B[39m\u001B[33m'\u001B[39m\n\u001B[32m----> \u001B[39m\u001B[32m5\u001B[39m embeddings = \u001B[43minit_embedding_model\u001B[49m\u001B[43m(\u001B[49m\u001B[33;43m'\u001B[39;49m\u001B[33;43mtext-embedding-3-small\u001B[39;49m\u001B[33;43m'\u001B[39;49m\u001B[43m)\u001B[49m\n\u001B[32m      6\u001B[39m response = embeddings.embed_query(text)\n\u001B[32m      7\u001B[39m \u001B[38;5;28mprint\u001B[39m(response)\n",
      "\u001B[36mFile \u001B[39m\u001B[32m~\\PycharmProjects\\ai-core-samples\\venv\\Lib\\site-packages\\gen_ai_hub\\proxy\\langchain\\init_models.py:266\u001B[39m, in \u001B[36minit_embedding_model\u001B[39m\u001B[34m(proxy_client, init_func, model_id, *args, **kwargs)\u001B[39m\n\u001B[32m    264\u001B[39m \u001B[38;5;28;01mif\u001B[39;00m model_id:\n\u001B[32m    265\u001B[39m     model_kwargs[\u001B[33m'\u001B[39m\u001B[33mmodel_id\u001B[39m\u001B[33m'\u001B[39m] = model_id\n\u001B[32m--> \u001B[39m\u001B[32m266\u001B[39m \u001B[38;5;28;01mreturn\u001B[39;00m \u001B[43m_init_model\u001B[49m\u001B[43m(\u001B[49m\u001B[43margs\u001B[49m\u001B[43m=\u001B[49m\u001B[43margs\u001B[49m\u001B[43m,\u001B[49m\n\u001B[32m    267\u001B[39m \u001B[43m                   \u001B[49m\u001B[43mproxy_client\u001B[49m\u001B[43m=\u001B[49m\u001B[43mproxy_client\u001B[49m\u001B[43m,\u001B[49m\n\u001B[32m    268\u001B[39m \u001B[43m                   \u001B[49m\u001B[43mmodel_type\u001B[49m\u001B[43m=\u001B[49m\u001B[43mModelType\u001B[49m\u001B[43m.\u001B[49m\u001B[43mEMBEDDINGS\u001B[49m\u001B[43m,\u001B[49m\n\u001B[32m    269\u001B[39m \u001B[43m                   \u001B[49m\u001B[43mmodel_kwargs\u001B[49m\u001B[43m=\u001B[49m\u001B[43mmodel_kwargs\u001B[49m\u001B[43m,\u001B[49m\n\u001B[32m    270\u001B[39m \u001B[43m                   \u001B[49m\u001B[43minit_func\u001B[49m\u001B[43m=\u001B[49m\u001B[43minit_func\u001B[49m\u001B[43m,\u001B[49m\n\u001B[32m    271\u001B[39m \u001B[43m                   \u001B[49m\u001B[43mkwargs\u001B[49m\u001B[43m=\u001B[49m\u001B[43mkwargs\u001B[49m\u001B[43m)\u001B[49m\n",
      "\u001B[36mFile \u001B[39m\u001B[32m~\\PycharmProjects\\ai-core-samples\\venv\\Lib\\site-packages\\gen_ai_hub\\proxy\\langchain\\init_models.py:190\u001B[39m, in \u001B[36m_init_model\u001B[39m\u001B[34m(proxy_client, model_type, args, kwargs, init_func, model_kwargs)\u001B[39m\n\u001B[32m    187\u001B[39m \u001B[38;5;28;01mif\u001B[39;00m init_func:\n\u001B[32m    188\u001B[39m     \u001B[38;5;28;01mreturn\u001B[39;00m _init_custom_model(proxy_client=proxy_client, init_func=init_func, args=args, kwargs=kwargs,\n\u001B[32m    189\u001B[39m                               model_kwargs=model_kwargs)\n\u001B[32m--> \u001B[39m\u001B[32m190\u001B[39m retrieval_result: RetrievalResult = \u001B[43mcatalog\u001B[49m\u001B[43m.\u001B[49m\u001B[43mretrieve\u001B[49m\u001B[43m(\u001B[49m\u001B[43mproxy_client\u001B[49m\u001B[43m=\u001B[49m\u001B[43mproxy_client\u001B[49m\u001B[43m,\u001B[49m\n\u001B[32m    191\u001B[39m \u001B[43m                                                     \u001B[49m\u001B[43margs\u001B[49m\u001B[43m=\u001B[49m\u001B[43margs\u001B[49m\u001B[43m,\u001B[49m\n\u001B[32m    192\u001B[39m \u001B[43m                                                     \u001B[49m\u001B[43mkwargs\u001B[49m\u001B[43m=\u001B[49m\u001B[43mkwargs\u001B[49m\u001B[43m,\u001B[49m\n\u001B[32m    193\u001B[39m \u001B[43m                                                     \u001B[49m\u001B[43mmodel_type\u001B[49m\u001B[43m=\u001B[49m\u001B[43mmodel_type\u001B[49m\u001B[43m)\u001B[49m\n\u001B[32m    194\u001B[39m \u001B[38;5;28;01mreturn\u001B[39;00m retrieval_result.registry_entry.init_func(proxy_client=retrieval_result.proxy_client,\n\u001B[32m    195\u001B[39m                                                  deployment=retrieval_result.deployment,\n\u001B[32m    196\u001B[39m                                                  **model_kwargs)\n",
      "\u001B[36mFile \u001B[39m\u001B[32m~\\PycharmProjects\\ai-core-samples\\venv\\Lib\\site-packages\\gen_ai_hub\\proxy\\langchain\\init_models.py:128\u001B[39m, in \u001B[36mCatalog.retrieve\u001B[39m\u001B[34m(self, proxy_client, args, kwargs, model_type)\u001B[39m\n\u001B[32m    125\u001B[39m proxy_client = proxy_client \u001B[38;5;129;01mor\u001B[39;00m get_proxy_client()\n\u001B[32m    126\u001B[39m model_name, model_identification_kwargs, kwargs = handle_model_args_kwargs(proxy_client=proxy_client,\n\u001B[32m    127\u001B[39m                                                                            args=args, kwargs=kwargs)\n\u001B[32m--> \u001B[39m\u001B[32m128\u001B[39m registry_entry = \u001B[38;5;28;43mself\u001B[39;49m\u001B[43m.\u001B[49m\u001B[43m_get_registry_entry\u001B[49m\u001B[43m(\u001B[49m\n\u001B[32m    129\u001B[39m \u001B[43m    \u001B[49m\u001B[43mproxy_client\u001B[49m\u001B[43m=\u001B[49m\u001B[43mproxy_client\u001B[49m\u001B[43m,\u001B[49m\n\u001B[32m    130\u001B[39m \u001B[43m    \u001B[49m\u001B[43mmodel_name\u001B[49m\u001B[43m=\u001B[49m\u001B[43mmodel_name\u001B[49m\u001B[43m,\u001B[49m\n\u001B[32m    131\u001B[39m \u001B[43m    \u001B[49m\u001B[43mmodel_type\u001B[49m\u001B[43m=\u001B[49m\u001B[43mmodel_type\u001B[49m\n\u001B[32m    132\u001B[39m \u001B[43m\u001B[49m\u001B[43m)\u001B[49m\n\u001B[32m    133\u001B[39m f_select_deployment = registry_entry.f_select_deployment \u001B[38;5;129;01mor\u001B[39;00m default_f_select_deployment\n\u001B[32m    134\u001B[39m deployment = f_select_deployment(proxy_client, **model_identification_kwargs)\n",
      "\u001B[36mFile \u001B[39m\u001B[32m~\\PycharmProjects\\ai-core-samples\\venv\\Lib\\site-packages\\gen_ai_hub\\proxy\\langchain\\init_models.py:118\u001B[39m, in \u001B[36mCatalog._get_registry_entry\u001B[39m\u001B[34m(self, proxy_client, model_name, only_available, model_type)\u001B[39m\n\u001B[32m    116\u001B[39m     \u001B[38;5;28;01mexcept\u001B[39;00m \u001B[38;5;167;01mKeyError\u001B[39;00m:\n\u001B[32m    117\u001B[39m         \u001B[38;5;28;01mcontinue\u001B[39;00m\n\u001B[32m--> \u001B[39m\u001B[32m118\u001B[39m \u001B[38;5;28;01mraise\u001B[39;00m \u001B[38;5;167;01mKeyError\u001B[39;00m(\u001B[33mf\u001B[39m\u001B[33m\"\u001B[39m\u001B[33mModel \u001B[39m\u001B[33m'\u001B[39m\u001B[38;5;132;01m{\u001B[39;00mmodel_name\u001B[38;5;132;01m}\u001B[39;00m\u001B[33m'\u001B[39m\u001B[33m is not available!\u001B[39m\u001B[33m\"\u001B[39m)\n",
      "\u001B[31mKeyError\u001B[39m: \"Model 'text-embedding-3-small' is not available!\""
     ]
    }
   ],
   "execution_count": 10
  },
  {
   "metadata": {},
   "cell_type": "code",
   "outputs": [],
   "execution_count": null,
   "source": "from gen_ai_hub.proxy.langchain.openai.OpenAIEmbeddings",
   "id": "da317fcb047bec95"
  },
  {
   "metadata": {
    "ExecuteTime": {
     "end_time": "2025-06-11T06:29:51.885226Z",
     "start_time": "2025-06-11T06:29:51.389181Z"
    }
   },
   "cell_type": "code",
   "source": [
    "from gen_ai_hub.proxy.langchain.openai import OpenAIEmbeddings\n",
    "from gen_ai_hub.proxy.core.proxy_clients import get_proxy_client\n",
    "proxy_client = get_proxy_client('gen-ai-hub')\n",
    "embedding_model = OpenAIEmbeddings(proxy_model_name=model_list[2])\n"
   ],
   "id": "30318b9db9978001",
   "outputs": [
    {
     "ename": "ImportError",
     "evalue": "cannot import name 'IndexServiceClient' from partially initialized module 'google.cloud.aiplatform_v1beta1.services.index_service' (most likely due to a circular import) (C:\\Users\\changgoo.kang\\PycharmProjects\\ai-core-samples\\venv\\Lib\\site-packages\\google\\cloud\\aiplatform_v1beta1\\services\\index_service\\__init__.py)",
     "output_type": "error",
     "traceback": [
      "\u001B[31m---------------------------------------------------------------------------\u001B[39m",
      "\u001B[31mImportError\u001B[39m                               Traceback (most recent call last)",
      "\u001B[36mCell\u001B[39m\u001B[36m \u001B[39m\u001B[32mIn[8]\u001B[39m\u001B[32m, line 1\u001B[39m\n\u001B[32m----> \u001B[39m\u001B[32m1\u001B[39m \u001B[38;5;28;01mfrom\u001B[39;00m\u001B[38;5;250m \u001B[39m\u001B[34;01mgen_ai_hub\u001B[39;00m\u001B[34;01m.\u001B[39;00m\u001B[34;01mproxy\u001B[39;00m\u001B[34;01m.\u001B[39;00m\u001B[34;01mlangchain\u001B[39;00m\u001B[34;01m.\u001B[39;00m\u001B[34;01mopenai\u001B[39;00m\u001B[38;5;250m \u001B[39m\u001B[38;5;28;01mimport\u001B[39;00m OpenAIEmbeddings\n\u001B[32m      2\u001B[39m \u001B[38;5;28;01mfrom\u001B[39;00m\u001B[38;5;250m \u001B[39m\u001B[34;01mgen_ai_hub\u001B[39;00m\u001B[34;01m.\u001B[39;00m\u001B[34;01mproxy\u001B[39;00m\u001B[34;01m.\u001B[39;00m\u001B[34;01mcore\u001B[39;00m\u001B[34;01m.\u001B[39;00m\u001B[34;01mproxy_clients\u001B[39;00m\u001B[38;5;250m \u001B[39m\u001B[38;5;28;01mimport\u001B[39;00m get_proxy_client\n\u001B[32m      3\u001B[39m proxy_client = get_proxy_client(\u001B[33m'\u001B[39m\u001B[33mgen-ai-hub\u001B[39m\u001B[33m'\u001B[39m)\n",
      "\u001B[36mFile \u001B[39m\u001B[32m~\\PycharmProjects\\ai-core-samples\\venv\\Lib\\site-packages\\gen_ai_hub\\proxy\\langchain\\__init__.py:2\u001B[39m\n\u001B[32m      1\u001B[39m \u001B[38;5;28;01mfrom\u001B[39;00m\u001B[38;5;250m \u001B[39m\u001B[34;01m.\u001B[39;00m\u001B[34;01mamazon\u001B[39;00m\u001B[38;5;250m \u001B[39m\u001B[38;5;28;01mimport\u001B[39;00m ChatBedrock\n\u001B[32m----> \u001B[39m\u001B[32m2\u001B[39m \u001B[38;5;28;01mfrom\u001B[39;00m\u001B[38;5;250m \u001B[39m\u001B[34;01m.\u001B[39;00m\u001B[34;01mgoogle_vertexai\u001B[39;00m\u001B[38;5;250m \u001B[39m\u001B[38;5;28;01mimport\u001B[39;00m ChatVertexAI\n\u001B[32m      3\u001B[39m \u001B[38;5;28;01mfrom\u001B[39;00m\u001B[38;5;250m \u001B[39m\u001B[34;01m.\u001B[39;00m\u001B[34;01mopenai\u001B[39;00m\u001B[38;5;250m \u001B[39m\u001B[38;5;28;01mimport\u001B[39;00m ChatOpenAI, OpenAI, OpenAIEmbeddings\n\u001B[32m      4\u001B[39m \u001B[38;5;28;01mfrom\u001B[39;00m\u001B[38;5;250m \u001B[39m\u001B[34;01m.\u001B[39;00m\u001B[34;01minit_models\u001B[39;00m\u001B[38;5;250m \u001B[39m\u001B[38;5;28;01mimport\u001B[39;00m init_embedding_model, init_llm\n",
      "\u001B[36mFile \u001B[39m\u001B[32m~\\PycharmProjects\\ai-core-samples\\venv\\Lib\\site-packages\\gen_ai_hub\\proxy\\langchain\\google_vertexai.py:9\u001B[39m\n\u001B[32m      7\u001B[39m \u001B[38;5;28;01mfrom\u001B[39;00m\u001B[38;5;250m \u001B[39m\u001B[34;01mgen_ai_hub\u001B[39;00m\u001B[34;01m.\u001B[39;00m\u001B[34;01mproxy\u001B[39;00m\u001B[34;01m.\u001B[39;00m\u001B[34;01mgen_ai_hub_proxy\u001B[39;00m\u001B[34;01m.\u001B[39;00m\u001B[34;01mclient\u001B[39;00m\u001B[38;5;250m \u001B[39m\u001B[38;5;28;01mimport\u001B[39;00m Deployment\n\u001B[32m      8\u001B[39m \u001B[38;5;28;01mfrom\u001B[39;00m\u001B[38;5;250m \u001B[39m\u001B[34;01mgen_ai_hub\u001B[39;00m\u001B[34;01m.\u001B[39;00m\u001B[34;01mproxy\u001B[39;00m\u001B[34;01m.\u001B[39;00m\u001B[34;01mlangchain\u001B[39;00m\u001B[34;01m.\u001B[39;00m\u001B[34;01minit_models\u001B[39;00m\u001B[38;5;250m \u001B[39m\u001B[38;5;28;01mimport\u001B[39;00m catalog\n\u001B[32m----> \u001B[39m\u001B[32m9\u001B[39m \u001B[38;5;28;01mfrom\u001B[39;00m\u001B[38;5;250m \u001B[39m\u001B[34;01mgen_ai_hub\u001B[39;00m\u001B[34;01m.\u001B[39;00m\u001B[34;01mproxy\u001B[39;00m\u001B[34;01m.\u001B[39;00m\u001B[34;01mnative\u001B[39;00m\u001B[34;01m.\u001B[39;00m\u001B[34;01mgoogle_vertexai\u001B[39;00m\u001B[34;01m.\u001B[39;00m\u001B[34;01mclients\u001B[39;00m\u001B[38;5;250m \u001B[39m\u001B[38;5;28;01mimport\u001B[39;00m GenerativeModel\n\u001B[32m     10\u001B[39m \u001B[38;5;28;01mfrom\u001B[39;00m\u001B[38;5;250m \u001B[39m\u001B[34;01mlangchain_google_vertexai\u001B[39;00m\u001B[38;5;250m \u001B[39m\u001B[38;5;28;01mimport\u001B[39;00m ChatVertexAI \u001B[38;5;28;01mas\u001B[39;00m ChatVertexAI_\n\u001B[32m     13\u001B[39m \u001B[38;5;28;01mclass\u001B[39;00m\u001B[38;5;250m \u001B[39m\u001B[34;01mChatVertexAI\u001B[39;00m(ChatVertexAI_):\n",
      "\u001B[36mFile \u001B[39m\u001B[32m~\\PycharmProjects\\ai-core-samples\\venv\\Lib\\site-packages\\gen_ai_hub\\proxy\\native\\google_vertexai\\clients.py:7\u001B[39m\n\u001B[32m      4\u001B[39m \u001B[38;5;28;01mfrom\u001B[39;00m\u001B[38;5;250m \u001B[39m\u001B[34;01murllib\u001B[39;00m\u001B[34;01m.\u001B[39;00m\u001B[34;01mparse\u001B[39;00m\u001B[38;5;250m \u001B[39m\u001B[38;5;28;01mimport\u001B[39;00m urlparse\n\u001B[32m      6\u001B[39m \u001B[38;5;28;01mimport\u001B[39;00m\u001B[38;5;250m \u001B[39m\u001B[34;01mgoogle\u001B[39;00m\u001B[34;01m.\u001B[39;00m\u001B[34;01mapi_core\u001B[39;00m\u001B[34;01m.\u001B[39;00m\u001B[34;01mpath_template\u001B[39;00m\n\u001B[32m----> \u001B[39m\u001B[32m7\u001B[39m \u001B[38;5;28;01mimport\u001B[39;00m\u001B[38;5;250m \u001B[39m\u001B[34;01mgoogle\u001B[39;00m\u001B[34;01m.\u001B[39;00m\u001B[34;01mcloud\u001B[39;00m\u001B[34;01m.\u001B[39;00m\u001B[34;01maiplatform\u001B[39;00m\u001B[34;01m.\u001B[39;00m\u001B[34;01mutils\u001B[39;00m\n\u001B[32m      8\u001B[39m \u001B[38;5;28;01mimport\u001B[39;00m\u001B[38;5;250m \u001B[39m\u001B[34;01mvertexai\u001B[39;00m\n\u001B[32m     10\u001B[39m \u001B[38;5;28;01mfrom\u001B[39;00m\u001B[38;5;250m \u001B[39m\u001B[34;01mgoogle\u001B[39;00m\u001B[34;01m.\u001B[39;00m\u001B[34;01mapi_core\u001B[39;00m\u001B[34;01m.\u001B[39;00m\u001B[34;01mpath_template\u001B[39;00m\u001B[38;5;250m \u001B[39m\u001B[38;5;28;01mimport\u001B[39;00m transcode \u001B[38;5;28;01mas\u001B[39;00m transcode_\n",
      "\u001B[36mFile \u001B[39m\u001B[32m~\\PycharmProjects\\ai-core-samples\\venv\\Lib\\site-packages\\google\\cloud\\aiplatform\\__init__.py:24\u001B[39m\n\u001B[32m     19\u001B[39m \u001B[38;5;28;01mfrom\u001B[39;00m\u001B[38;5;250m \u001B[39m\u001B[34;01mgoogle\u001B[39;00m\u001B[34;01m.\u001B[39;00m\u001B[34;01mcloud\u001B[39;00m\u001B[34;01m.\u001B[39;00m\u001B[34;01maiplatform\u001B[39;00m\u001B[38;5;250m \u001B[39m\u001B[38;5;28;01mimport\u001B[39;00m version \u001B[38;5;28;01mas\u001B[39;00m aiplatform_version\n\u001B[32m     21\u001B[39m __version__ = aiplatform_version.__version__\n\u001B[32m---> \u001B[39m\u001B[32m24\u001B[39m \u001B[38;5;28;01mfrom\u001B[39;00m\u001B[38;5;250m \u001B[39m\u001B[34;01mgoogle\u001B[39;00m\u001B[34;01m.\u001B[39;00m\u001B[34;01mcloud\u001B[39;00m\u001B[34;01m.\u001B[39;00m\u001B[34;01maiplatform\u001B[39;00m\u001B[38;5;250m \u001B[39m\u001B[38;5;28;01mimport\u001B[39;00m initializer\n\u001B[32m     26\u001B[39m \u001B[38;5;28;01mfrom\u001B[39;00m\u001B[38;5;250m \u001B[39m\u001B[34;01mgoogle\u001B[39;00m\u001B[34;01m.\u001B[39;00m\u001B[34;01mcloud\u001B[39;00m\u001B[34;01m.\u001B[39;00m\u001B[34;01maiplatform\u001B[39;00m\u001B[34;01m.\u001B[39;00m\u001B[34;01mdatasets\u001B[39;00m\u001B[38;5;250m \u001B[39m\u001B[38;5;28;01mimport\u001B[39;00m (\n\u001B[32m     27\u001B[39m     ImageDataset,\n\u001B[32m     28\u001B[39m     TabularDataset,\n\u001B[32m   (...)\u001B[39m\u001B[32m     31\u001B[39m     VideoDataset,\n\u001B[32m     32\u001B[39m )\n\u001B[32m     33\u001B[39m \u001B[38;5;28;01mfrom\u001B[39;00m\u001B[38;5;250m \u001B[39m\u001B[34;01mgoogle\u001B[39;00m\u001B[34;01m.\u001B[39;00m\u001B[34;01mcloud\u001B[39;00m\u001B[34;01m.\u001B[39;00m\u001B[34;01maiplatform\u001B[39;00m\u001B[38;5;250m \u001B[39m\u001B[38;5;28;01mimport\u001B[39;00m explain\n",
      "\u001B[36mFile \u001B[39m\u001B[32m~\\PycharmProjects\\ai-core-samples\\venv\\Lib\\site-packages\\google\\cloud\\aiplatform\\initializer.py:35\u001B[39m\n\u001B[32m     32\u001B[39m \u001B[38;5;28;01mfrom\u001B[39;00m\u001B[38;5;250m \u001B[39m\u001B[34;01mgoogle\u001B[39;00m\u001B[34;01m.\u001B[39;00m\u001B[34;01mauth\u001B[39;00m\u001B[34;01m.\u001B[39;00m\u001B[34;01mexceptions\u001B[39;00m\u001B[38;5;250m \u001B[39m\u001B[38;5;28;01mimport\u001B[39;00m GoogleAuthError\n\u001B[32m     34\u001B[39m \u001B[38;5;28;01mfrom\u001B[39;00m\u001B[38;5;250m \u001B[39m\u001B[34;01mgoogle\u001B[39;00m\u001B[34;01m.\u001B[39;00m\u001B[34;01mcloud\u001B[39;00m\u001B[34;01m.\u001B[39;00m\u001B[34;01maiplatform\u001B[39;00m\u001B[38;5;250m \u001B[39m\u001B[38;5;28;01mimport\u001B[39;00m __version__\n\u001B[32m---> \u001B[39m\u001B[32m35\u001B[39m \u001B[38;5;28;01mfrom\u001B[39;00m\u001B[38;5;250m \u001B[39m\u001B[34;01mgoogle\u001B[39;00m\u001B[34;01m.\u001B[39;00m\u001B[34;01mcloud\u001B[39;00m\u001B[34;01m.\u001B[39;00m\u001B[34;01maiplatform\u001B[39;00m\u001B[38;5;250m \u001B[39m\u001B[38;5;28;01mimport\u001B[39;00m compat\n\u001B[32m     36\u001B[39m \u001B[38;5;28;01mfrom\u001B[39;00m\u001B[38;5;250m \u001B[39m\u001B[34;01mgoogle\u001B[39;00m\u001B[34;01m.\u001B[39;00m\u001B[34;01mcloud\u001B[39;00m\u001B[34;01m.\u001B[39;00m\u001B[34;01maiplatform\u001B[39;00m\u001B[34;01m.\u001B[39;00m\u001B[34;01mconstants\u001B[39;00m\u001B[38;5;250m \u001B[39m\u001B[38;5;28;01mimport\u001B[39;00m base \u001B[38;5;28;01mas\u001B[39;00m constants\n\u001B[32m     37\u001B[39m \u001B[38;5;28;01mfrom\u001B[39;00m\u001B[38;5;250m \u001B[39m\u001B[34;01mgoogle\u001B[39;00m\u001B[34;01m.\u001B[39;00m\u001B[34;01mcloud\u001B[39;00m\u001B[34;01m.\u001B[39;00m\u001B[34;01maiplatform\u001B[39;00m\u001B[38;5;250m \u001B[39m\u001B[38;5;28;01mimport\u001B[39;00m utils\n",
      "\u001B[36mFile \u001B[39m\u001B[32m~\\PycharmProjects\\ai-core-samples\\venv\\Lib\\site-packages\\google\\cloud\\aiplatform\\compat\\__init__.py:18\u001B[39m\n\u001B[32m      1\u001B[39m \u001B[38;5;66;03m# -*- coding: utf-8 -*-\u001B[39;00m\n\u001B[32m      2\u001B[39m \n\u001B[32m      3\u001B[39m \u001B[38;5;66;03m# Copyright 2023 Google LLC\u001B[39;00m\n\u001B[32m   (...)\u001B[39m\u001B[32m     15\u001B[39m \u001B[38;5;66;03m# limitations under the License.\u001B[39;00m\n\u001B[32m     16\u001B[39m \u001B[38;5;66;03m#\u001B[39;00m\n\u001B[32m---> \u001B[39m\u001B[32m18\u001B[39m \u001B[38;5;28;01mfrom\u001B[39;00m\u001B[38;5;250m \u001B[39m\u001B[34;01mgoogle\u001B[39;00m\u001B[34;01m.\u001B[39;00m\u001B[34;01mcloud\u001B[39;00m\u001B[34;01m.\u001B[39;00m\u001B[34;01maiplatform\u001B[39;00m\u001B[34;01m.\u001B[39;00m\u001B[34;01mcompat\u001B[39;00m\u001B[38;5;250m \u001B[39m\u001B[38;5;28;01mimport\u001B[39;00m services\n\u001B[32m     19\u001B[39m \u001B[38;5;28;01mfrom\u001B[39;00m\u001B[38;5;250m \u001B[39m\u001B[34;01mgoogle\u001B[39;00m\u001B[34;01m.\u001B[39;00m\u001B[34;01mcloud\u001B[39;00m\u001B[34;01m.\u001B[39;00m\u001B[34;01maiplatform\u001B[39;00m\u001B[34;01m.\u001B[39;00m\u001B[34;01mcompat\u001B[39;00m\u001B[38;5;250m \u001B[39m\u001B[38;5;28;01mimport\u001B[39;00m types\n\u001B[32m     21\u001B[39m V1BETA1 = \u001B[33m\"\u001B[39m\u001B[33mv1beta1\u001B[39m\u001B[33m\"\u001B[39m\n",
      "\u001B[36mFile \u001B[39m\u001B[32m~\\PycharmProjects\\ai-core-samples\\venv\\Lib\\site-packages\\google\\cloud\\aiplatform\\compat\\services\\__init__.py:51\u001B[39m\n\u001B[32m     45\u001B[39m \u001B[38;5;28;01mfrom\u001B[39;00m\u001B[38;5;250m \u001B[39m\u001B[34;01mgoogle\u001B[39;00m\u001B[34;01m.\u001B[39;00m\u001B[34;01mcloud\u001B[39;00m\u001B[34;01m.\u001B[39;00m\u001B[34;01maiplatform_v1beta1\u001B[39;00m\u001B[34;01m.\u001B[39;00m\u001B[34;01mservices\u001B[39;00m\u001B[34;01m.\u001B[39;00m\u001B[34;01mfeaturestore_service\u001B[39;00m\u001B[38;5;250m \u001B[39m\u001B[38;5;28;01mimport\u001B[39;00m (\n\u001B[32m     46\u001B[39m     client \u001B[38;5;28;01mas\u001B[39;00m featurestore_service_client_v1beta1,\n\u001B[32m     47\u001B[39m )\n\u001B[32m     48\u001B[39m \u001B[38;5;28;01mfrom\u001B[39;00m\u001B[38;5;250m \u001B[39m\u001B[34;01mgoogle\u001B[39;00m\u001B[34;01m.\u001B[39;00m\u001B[34;01mcloud\u001B[39;00m\u001B[34;01m.\u001B[39;00m\u001B[34;01maiplatform_v1beta1\u001B[39;00m\u001B[34;01m.\u001B[39;00m\u001B[34;01mservices\u001B[39;00m\u001B[34;01m.\u001B[39;00m\u001B[34;01mgen_ai_cache_service\u001B[39;00m\u001B[38;5;250m \u001B[39m\u001B[38;5;28;01mimport\u001B[39;00m (\n\u001B[32m     49\u001B[39m     client \u001B[38;5;28;01mas\u001B[39;00m gen_ai_cache_service_client_v1beta1,\n\u001B[32m     50\u001B[39m )\n\u001B[32m---> \u001B[39m\u001B[32m51\u001B[39m \u001B[38;5;28;01mfrom\u001B[39;00m\u001B[38;5;250m \u001B[39m\u001B[34;01mgoogle\u001B[39;00m\u001B[34;01m.\u001B[39;00m\u001B[34;01mcloud\u001B[39;00m\u001B[34;01m.\u001B[39;00m\u001B[34;01maiplatform_v1beta1\u001B[39;00m\u001B[34;01m.\u001B[39;00m\u001B[34;01mservices\u001B[39;00m\u001B[34;01m.\u001B[39;00m\u001B[34;01mindex_service\u001B[39;00m\u001B[38;5;250m \u001B[39m\u001B[38;5;28;01mimport\u001B[39;00m (\n\u001B[32m     52\u001B[39m     client \u001B[38;5;28;01mas\u001B[39;00m index_service_client_v1beta1,\n\u001B[32m     53\u001B[39m )\n\u001B[32m     54\u001B[39m \u001B[38;5;28;01mfrom\u001B[39;00m\u001B[38;5;250m \u001B[39m\u001B[34;01mgoogle\u001B[39;00m\u001B[34;01m.\u001B[39;00m\u001B[34;01mcloud\u001B[39;00m\u001B[34;01m.\u001B[39;00m\u001B[34;01maiplatform_v1beta1\u001B[39;00m\u001B[34;01m.\u001B[39;00m\u001B[34;01mservices\u001B[39;00m\u001B[34;01m.\u001B[39;00m\u001B[34;01mindex_endpoint_service\u001B[39;00m\u001B[38;5;250m \u001B[39m\u001B[38;5;28;01mimport\u001B[39;00m (\n\u001B[32m     55\u001B[39m     client \u001B[38;5;28;01mas\u001B[39;00m index_endpoint_service_client_v1beta1,\n\u001B[32m     56\u001B[39m )\n\u001B[32m     57\u001B[39m \u001B[38;5;28;01mfrom\u001B[39;00m\u001B[38;5;250m \u001B[39m\u001B[34;01mgoogle\u001B[39;00m\u001B[34;01m.\u001B[39;00m\u001B[34;01mcloud\u001B[39;00m\u001B[34;01m.\u001B[39;00m\u001B[34;01maiplatform_v1beta1\u001B[39;00m\u001B[34;01m.\u001B[39;00m\u001B[34;01mservices\u001B[39;00m\u001B[34;01m.\u001B[39;00m\u001B[34;01mjob_service\u001B[39;00m\u001B[38;5;250m \u001B[39m\u001B[38;5;28;01mimport\u001B[39;00m (\n\u001B[32m     58\u001B[39m     client \u001B[38;5;28;01mas\u001B[39;00m job_service_client_v1beta1,\n\u001B[32m     59\u001B[39m )\n",
      "\u001B[36mFile \u001B[39m\u001B[32m~\\PycharmProjects\\ai-core-samples\\venv\\Lib\\site-packages\\google\\cloud\\aiplatform_v1beta1\\services\\index_service\\__init__.py:16\u001B[39m\n\u001B[32m      1\u001B[39m \u001B[38;5;66;03m# -*- coding: utf-8 -*-\u001B[39;00m\n\u001B[32m      2\u001B[39m \u001B[38;5;66;03m# Copyright 2024 Google LLC\u001B[39;00m\n\u001B[32m      3\u001B[39m \u001B[38;5;66;03m#\u001B[39;00m\n\u001B[32m   (...)\u001B[39m\u001B[32m     14\u001B[39m \u001B[38;5;66;03m# limitations under the License.\u001B[39;00m\n\u001B[32m     15\u001B[39m \u001B[38;5;66;03m#\u001B[39;00m\n\u001B[32m---> \u001B[39m\u001B[32m16\u001B[39m \u001B[38;5;28;01mfrom\u001B[39;00m\u001B[38;5;250m \u001B[39m\u001B[34;01m.\u001B[39;00m\u001B[34;01mclient\u001B[39;00m\u001B[38;5;250m \u001B[39m\u001B[38;5;28;01mimport\u001B[39;00m IndexServiceClient\n\u001B[32m     17\u001B[39m \u001B[38;5;28;01mfrom\u001B[39;00m\u001B[38;5;250m \u001B[39m\u001B[34;01m.\u001B[39;00m\u001B[34;01masync_client\u001B[39;00m\u001B[38;5;250m \u001B[39m\u001B[38;5;28;01mimport\u001B[39;00m IndexServiceAsyncClient\n\u001B[32m     19\u001B[39m __all__ = (\n\u001B[32m     20\u001B[39m     \u001B[33m\"\u001B[39m\u001B[33mIndexServiceClient\u001B[39m\u001B[33m\"\u001B[39m,\n\u001B[32m     21\u001B[39m     \u001B[33m\"\u001B[39m\u001B[33mIndexServiceAsyncClient\u001B[39m\u001B[33m\"\u001B[39m,\n\u001B[32m     22\u001B[39m )\n",
      "\u001B[36mFile \u001B[39m\u001B[32m~\\PycharmProjects\\ai-core-samples\\venv\\Lib\\site-packages\\google\\cloud\\aiplatform_v1beta1\\services\\index_service\\client.py:37\u001B[39m\n\u001B[32m     22\u001B[39m \u001B[38;5;28;01mfrom\u001B[39;00m\u001B[38;5;250m \u001B[39m\u001B[34;01mtyping\u001B[39;00m\u001B[38;5;250m \u001B[39m\u001B[38;5;28;01mimport\u001B[39;00m (\n\u001B[32m     23\u001B[39m     Dict,\n\u001B[32m     24\u001B[39m     Callable,\n\u001B[32m   (...)\u001B[39m\u001B[32m     33\u001B[39m     cast,\n\u001B[32m     34\u001B[39m )\n\u001B[32m     35\u001B[39m \u001B[38;5;28;01mimport\u001B[39;00m\u001B[38;5;250m \u001B[39m\u001B[34;01mwarnings\u001B[39;00m\n\u001B[32m---> \u001B[39m\u001B[32m37\u001B[39m \u001B[38;5;28;01mfrom\u001B[39;00m\u001B[38;5;250m \u001B[39m\u001B[34;01mgoogle\u001B[39;00m\u001B[34;01m.\u001B[39;00m\u001B[34;01mcloud\u001B[39;00m\u001B[34;01m.\u001B[39;00m\u001B[34;01maiplatform_v1beta1\u001B[39;00m\u001B[38;5;250m \u001B[39m\u001B[38;5;28;01mimport\u001B[39;00m gapic_version \u001B[38;5;28;01mas\u001B[39;00m package_version\n\u001B[32m     39\u001B[39m \u001B[38;5;28;01mfrom\u001B[39;00m\u001B[38;5;250m \u001B[39m\u001B[34;01mgoogle\u001B[39;00m\u001B[34;01m.\u001B[39;00m\u001B[34;01mapi_core\u001B[39;00m\u001B[38;5;250m \u001B[39m\u001B[38;5;28;01mimport\u001B[39;00m client_options \u001B[38;5;28;01mas\u001B[39;00m client_options_lib\n\u001B[32m     40\u001B[39m \u001B[38;5;28;01mfrom\u001B[39;00m\u001B[38;5;250m \u001B[39m\u001B[34;01mgoogle\u001B[39;00m\u001B[34;01m.\u001B[39;00m\u001B[34;01mapi_core\u001B[39;00m\u001B[38;5;250m \u001B[39m\u001B[38;5;28;01mimport\u001B[39;00m exceptions \u001B[38;5;28;01mas\u001B[39;00m core_exceptions\n",
      "\u001B[36mFile \u001B[39m\u001B[32m~\\PycharmProjects\\ai-core-samples\\venv\\Lib\\site-packages\\google\\cloud\\aiplatform_v1beta1\\__init__.py:61\u001B[39m\n\u001B[32m     59\u001B[39m \u001B[38;5;28;01mfrom\u001B[39;00m\u001B[38;5;250m \u001B[39m\u001B[34;01m.\u001B[39;00m\u001B[34;01mservices\u001B[39;00m\u001B[34;01m.\u001B[39;00m\u001B[34;01mindex_endpoint_service\u001B[39;00m\u001B[38;5;250m \u001B[39m\u001B[38;5;28;01mimport\u001B[39;00m IndexEndpointServiceClient\n\u001B[32m     60\u001B[39m \u001B[38;5;28;01mfrom\u001B[39;00m\u001B[38;5;250m \u001B[39m\u001B[34;01m.\u001B[39;00m\u001B[34;01mservices\u001B[39;00m\u001B[34;01m.\u001B[39;00m\u001B[34;01mindex_endpoint_service\u001B[39;00m\u001B[38;5;250m \u001B[39m\u001B[38;5;28;01mimport\u001B[39;00m IndexEndpointServiceAsyncClient\n\u001B[32m---> \u001B[39m\u001B[32m61\u001B[39m \u001B[38;5;28;01mfrom\u001B[39;00m\u001B[38;5;250m \u001B[39m\u001B[34;01m.\u001B[39;00m\u001B[34;01mservices\u001B[39;00m\u001B[34;01m.\u001B[39;00m\u001B[34;01mindex_service\u001B[39;00m\u001B[38;5;250m \u001B[39m\u001B[38;5;28;01mimport\u001B[39;00m IndexServiceClient\n\u001B[32m     62\u001B[39m \u001B[38;5;28;01mfrom\u001B[39;00m\u001B[38;5;250m \u001B[39m\u001B[34;01m.\u001B[39;00m\u001B[34;01mservices\u001B[39;00m\u001B[34;01m.\u001B[39;00m\u001B[34;01mindex_service\u001B[39;00m\u001B[38;5;250m \u001B[39m\u001B[38;5;28;01mimport\u001B[39;00m IndexServiceAsyncClient\n\u001B[32m     63\u001B[39m \u001B[38;5;28;01mfrom\u001B[39;00m\u001B[38;5;250m \u001B[39m\u001B[34;01m.\u001B[39;00m\u001B[34;01mservices\u001B[39;00m\u001B[34;01m.\u001B[39;00m\u001B[34;01mjob_service\u001B[39;00m\u001B[38;5;250m \u001B[39m\u001B[38;5;28;01mimport\u001B[39;00m JobServiceClient\n",
      "\u001B[31mImportError\u001B[39m: cannot import name 'IndexServiceClient' from partially initialized module 'google.cloud.aiplatform_v1beta1.services.index_service' (most likely due to a circular import) (C:\\Users\\changgoo.kang\\PycharmProjects\\ai-core-samples\\venv\\Lib\\site-packages\\google\\cloud\\aiplatform_v1beta1\\services\\index_service\\__init__.py)"
     ]
    }
   ],
   "execution_count": 8
  },
  {
   "metadata": {
    "ExecuteTime": {
     "end_time": "2025-06-11T06:19:54.372244Z",
     "start_time": "2025-06-11T06:19:54.307518Z"
    }
   },
   "cell_type": "code",
   "source": [
    "from gen_ai_hub.proxy.native.openai import embeddings\n",
    "# from gen_ai_hub.proxy.langchain.init_models import init_embedding_model\n",
    "embeddings = init_embedding_model(model_list[2])"
   ],
   "id": "f1af8affb13697f5",
   "outputs": [
    {
     "ename": "KeyError",
     "evalue": "\"Model 'text-embedding-3-small' is not available!\"",
     "output_type": "error",
     "traceback": [
      "\u001B[31m---------------------------------------------------------------------------\u001B[39m",
      "\u001B[31mKeyError\u001B[39m                                  Traceback (most recent call last)",
      "\u001B[36mCell\u001B[39m\u001B[36m \u001B[39m\u001B[32mIn[6]\u001B[39m\u001B[32m, line 2\u001B[39m\n\u001B[32m      1\u001B[39m \u001B[38;5;28;01mfrom\u001B[39;00m\u001B[38;5;250m \u001B[39m\u001B[34;01mgen_ai_hub\u001B[39;00m\u001B[34;01m.\u001B[39;00m\u001B[34;01mproxy\u001B[39;00m\u001B[34;01m.\u001B[39;00m\u001B[34;01mlangchain\u001B[39;00m\u001B[34;01m.\u001B[39;00m\u001B[34;01minit_models\u001B[39;00m\u001B[38;5;250m \u001B[39m\u001B[38;5;28;01mimport\u001B[39;00m init_embedding_model\n\u001B[32m----> \u001B[39m\u001B[32m2\u001B[39m embeddings = \u001B[43minit_embedding_model\u001B[49m\u001B[43m(\u001B[49m\u001B[43mmodel_list\u001B[49m\u001B[43m[\u001B[49m\u001B[32;43m2\u001B[39;49m\u001B[43m]\u001B[49m\u001B[43m)\u001B[49m\n",
      "\u001B[36mFile \u001B[39m\u001B[32m~\\PycharmProjects\\ai-core-samples\\venv\\Lib\\site-packages\\gen_ai_hub\\proxy\\langchain\\init_models.py:266\u001B[39m, in \u001B[36minit_embedding_model\u001B[39m\u001B[34m(proxy_client, init_func, model_id, *args, **kwargs)\u001B[39m\n\u001B[32m    264\u001B[39m \u001B[38;5;28;01mif\u001B[39;00m model_id:\n\u001B[32m    265\u001B[39m     model_kwargs[\u001B[33m'\u001B[39m\u001B[33mmodel_id\u001B[39m\u001B[33m'\u001B[39m] = model_id\n\u001B[32m--> \u001B[39m\u001B[32m266\u001B[39m \u001B[38;5;28;01mreturn\u001B[39;00m \u001B[43m_init_model\u001B[49m\u001B[43m(\u001B[49m\u001B[43margs\u001B[49m\u001B[43m=\u001B[49m\u001B[43margs\u001B[49m\u001B[43m,\u001B[49m\n\u001B[32m    267\u001B[39m \u001B[43m                   \u001B[49m\u001B[43mproxy_client\u001B[49m\u001B[43m=\u001B[49m\u001B[43mproxy_client\u001B[49m\u001B[43m,\u001B[49m\n\u001B[32m    268\u001B[39m \u001B[43m                   \u001B[49m\u001B[43mmodel_type\u001B[49m\u001B[43m=\u001B[49m\u001B[43mModelType\u001B[49m\u001B[43m.\u001B[49m\u001B[43mEMBEDDINGS\u001B[49m\u001B[43m,\u001B[49m\n\u001B[32m    269\u001B[39m \u001B[43m                   \u001B[49m\u001B[43mmodel_kwargs\u001B[49m\u001B[43m=\u001B[49m\u001B[43mmodel_kwargs\u001B[49m\u001B[43m,\u001B[49m\n\u001B[32m    270\u001B[39m \u001B[43m                   \u001B[49m\u001B[43minit_func\u001B[49m\u001B[43m=\u001B[49m\u001B[43minit_func\u001B[49m\u001B[43m,\u001B[49m\n\u001B[32m    271\u001B[39m \u001B[43m                   \u001B[49m\u001B[43mkwargs\u001B[49m\u001B[43m=\u001B[49m\u001B[43mkwargs\u001B[49m\u001B[43m)\u001B[49m\n",
      "\u001B[36mFile \u001B[39m\u001B[32m~\\PycharmProjects\\ai-core-samples\\venv\\Lib\\site-packages\\gen_ai_hub\\proxy\\langchain\\init_models.py:190\u001B[39m, in \u001B[36m_init_model\u001B[39m\u001B[34m(proxy_client, model_type, args, kwargs, init_func, model_kwargs)\u001B[39m\n\u001B[32m    187\u001B[39m \u001B[38;5;28;01mif\u001B[39;00m init_func:\n\u001B[32m    188\u001B[39m     \u001B[38;5;28;01mreturn\u001B[39;00m _init_custom_model(proxy_client=proxy_client, init_func=init_func, args=args, kwargs=kwargs,\n\u001B[32m    189\u001B[39m                               model_kwargs=model_kwargs)\n\u001B[32m--> \u001B[39m\u001B[32m190\u001B[39m retrieval_result: RetrievalResult = \u001B[43mcatalog\u001B[49m\u001B[43m.\u001B[49m\u001B[43mretrieve\u001B[49m\u001B[43m(\u001B[49m\u001B[43mproxy_client\u001B[49m\u001B[43m=\u001B[49m\u001B[43mproxy_client\u001B[49m\u001B[43m,\u001B[49m\n\u001B[32m    191\u001B[39m \u001B[43m                                                     \u001B[49m\u001B[43margs\u001B[49m\u001B[43m=\u001B[49m\u001B[43margs\u001B[49m\u001B[43m,\u001B[49m\n\u001B[32m    192\u001B[39m \u001B[43m                                                     \u001B[49m\u001B[43mkwargs\u001B[49m\u001B[43m=\u001B[49m\u001B[43mkwargs\u001B[49m\u001B[43m,\u001B[49m\n\u001B[32m    193\u001B[39m \u001B[43m                                                     \u001B[49m\u001B[43mmodel_type\u001B[49m\u001B[43m=\u001B[49m\u001B[43mmodel_type\u001B[49m\u001B[43m)\u001B[49m\n\u001B[32m    194\u001B[39m \u001B[38;5;28;01mreturn\u001B[39;00m retrieval_result.registry_entry.init_func(proxy_client=retrieval_result.proxy_client,\n\u001B[32m    195\u001B[39m                                                  deployment=retrieval_result.deployment,\n\u001B[32m    196\u001B[39m                                                  **model_kwargs)\n",
      "\u001B[36mFile \u001B[39m\u001B[32m~\\PycharmProjects\\ai-core-samples\\venv\\Lib\\site-packages\\gen_ai_hub\\proxy\\langchain\\init_models.py:128\u001B[39m, in \u001B[36mCatalog.retrieve\u001B[39m\u001B[34m(self, proxy_client, args, kwargs, model_type)\u001B[39m\n\u001B[32m    125\u001B[39m proxy_client = proxy_client \u001B[38;5;129;01mor\u001B[39;00m get_proxy_client()\n\u001B[32m    126\u001B[39m model_name, model_identification_kwargs, kwargs = handle_model_args_kwargs(proxy_client=proxy_client,\n\u001B[32m    127\u001B[39m                                                                            args=args, kwargs=kwargs)\n\u001B[32m--> \u001B[39m\u001B[32m128\u001B[39m registry_entry = \u001B[38;5;28;43mself\u001B[39;49m\u001B[43m.\u001B[49m\u001B[43m_get_registry_entry\u001B[49m\u001B[43m(\u001B[49m\n\u001B[32m    129\u001B[39m \u001B[43m    \u001B[49m\u001B[43mproxy_client\u001B[49m\u001B[43m=\u001B[49m\u001B[43mproxy_client\u001B[49m\u001B[43m,\u001B[49m\n\u001B[32m    130\u001B[39m \u001B[43m    \u001B[49m\u001B[43mmodel_name\u001B[49m\u001B[43m=\u001B[49m\u001B[43mmodel_name\u001B[49m\u001B[43m,\u001B[49m\n\u001B[32m    131\u001B[39m \u001B[43m    \u001B[49m\u001B[43mmodel_type\u001B[49m\u001B[43m=\u001B[49m\u001B[43mmodel_type\u001B[49m\n\u001B[32m    132\u001B[39m \u001B[43m\u001B[49m\u001B[43m)\u001B[49m\n\u001B[32m    133\u001B[39m f_select_deployment = registry_entry.f_select_deployment \u001B[38;5;129;01mor\u001B[39;00m default_f_select_deployment\n\u001B[32m    134\u001B[39m deployment = f_select_deployment(proxy_client, **model_identification_kwargs)\n",
      "\u001B[36mFile \u001B[39m\u001B[32m~\\PycharmProjects\\ai-core-samples\\venv\\Lib\\site-packages\\gen_ai_hub\\proxy\\langchain\\init_models.py:118\u001B[39m, in \u001B[36mCatalog._get_registry_entry\u001B[39m\u001B[34m(self, proxy_client, model_name, only_available, model_type)\u001B[39m\n\u001B[32m    116\u001B[39m     \u001B[38;5;28;01mexcept\u001B[39;00m \u001B[38;5;167;01mKeyError\u001B[39;00m:\n\u001B[32m    117\u001B[39m         \u001B[38;5;28;01mcontinue\u001B[39;00m\n\u001B[32m--> \u001B[39m\u001B[32m118\u001B[39m \u001B[38;5;28;01mraise\u001B[39;00m \u001B[38;5;167;01mKeyError\u001B[39;00m(\u001B[33mf\u001B[39m\u001B[33m\"\u001B[39m\u001B[33mModel \u001B[39m\u001B[33m'\u001B[39m\u001B[38;5;132;01m{\u001B[39;00mmodel_name\u001B[38;5;132;01m}\u001B[39;00m\u001B[33m'\u001B[39m\u001B[33m is not available!\u001B[39m\u001B[33m\"\u001B[39m)\n",
      "\u001B[31mKeyError\u001B[39m: \"Model 'text-embedding-3-small' is not available!\""
     ]
    }
   ],
   "execution_count": 6
  },
  {
   "metadata": {
    "ExecuteTime": {
     "end_time": "2025-06-11T06:50:34.306034Z",
     "start_time": "2025-06-11T06:50:34.238565Z"
    }
   },
   "cell_type": "code",
   "source": [
    "from langchain_hana import HanaDB\n",
    "\n",
    "db = HanaDB(\n",
    "    embedding=embeddings, connection=connection, table_name=\"STATE_OF_THE_UNION\"\n",
    ")"
   ],
   "id": "bba9df1b07b61fd1",
   "outputs": [
    {
     "ename": "ModuleNotFoundError",
     "evalue": "No module named 'langchain_hana'",
     "output_type": "error",
     "traceback": [
      "\u001B[31m---------------------------------------------------------------------------\u001B[39m",
      "\u001B[31mModuleNotFoundError\u001B[39m                       Traceback (most recent call last)",
      "\u001B[36mCell\u001B[39m\u001B[36m \u001B[39m\u001B[32mIn[11]\u001B[39m\u001B[32m, line 1\u001B[39m\n\u001B[32m----> \u001B[39m\u001B[32m1\u001B[39m \u001B[38;5;28;01mfrom\u001B[39;00m\u001B[38;5;250m \u001B[39m\u001B[34;01mlangchain_hana\u001B[39;00m\u001B[38;5;250m \u001B[39m\u001B[38;5;28;01mimport\u001B[39;00m HanaDB\n\u001B[32m      3\u001B[39m db = HanaDB(\n\u001B[32m      4\u001B[39m     embedding=embeddings, connection=connection, table_name=\u001B[33m\"\u001B[39m\u001B[33mSTATE_OF_THE_UNION\u001B[39m\u001B[33m\"\u001B[39m\n\u001B[32m      5\u001B[39m )\n",
      "\u001B[31mModuleNotFoundError\u001B[39m: No module named 'langchain_hana'"
     ]
    }
   ],
   "execution_count": 11
  }
 ],
 "metadata": {
  "kernelspec": {
   "display_name": "Python 3",
   "language": "python",
   "name": "python3"
  },
  "language_info": {
   "codemirror_mode": {
    "name": "ipython",
    "version": 2
   },
   "file_extension": ".py",
   "mimetype": "text/x-python",
   "name": "python",
   "nbconvert_exporter": "python",
   "pygments_lexer": "ipython2",
   "version": "2.7.6"
  }
 },
 "nbformat": 4,
 "nbformat_minor": 5
}
